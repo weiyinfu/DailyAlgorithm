{
 "cells": [
  {
   "cell_type": "markdown",
   "metadata": {},
   "source": [
    "来解一个复杂的方程，问题来自：https://zhuanlan.zhihu.com/p/111799363\n",
    "\n",
    "首先根据微分方程求出通式来，然后化简\n",
    "\n",
    "结果发现最终得到的公式很奇怪，实际上却又能够解释"
   ]
  },
  {
   "cell_type": "code",
   "execution_count": 1,
   "metadata": {},
   "outputs": [],
   "source": [
    "from sympy import *\n",
    "import numpy as np\n",
    "import matplotlib.pyplot as plt\n",
    "init_printing()\n",
    "x=symbols('x')\n",
    "y=Function('y')"
   ]
  },
  {
   "cell_type": "markdown",
   "metadata": {},
   "source": [
    "# 正确答案\n",
    "微分方程"
   ]
  },
  {
   "cell_type": "code",
   "execution_count": 107,
   "metadata": {},
   "outputs": [
    {
     "data": {
      "image/png": "[encoded data removed]",
      "text/latex": [
       "$\\displaystyle \\left(1 - x\\right) \\frac{d^{2}}{d x^{2}} y{\\left(x \\right)} = \\sqrt{\\left(\\frac{d}{d x} y{\\left(x \\right)}\\right)^{2} + 1}$"
      ],
      "text/plain": [
       "                         _________________\n",
       "          2             ╱           2     \n",
       "         d             ╱  ⎛d       ⎞      \n",
       "(1 - x)⋅───(y(x)) =   ╱   ⎜──(y(x))⎟  + 1 \n",
       "          2         ╲╱    ⎝dx      ⎠      \n",
       "        dx                                "
      ]
     },
     "execution_count": 107,
     "metadata": {},
     "output_type": "execute_result"
    }
   ],
   "source": [
    "diff_equation=Eq(y(x).diff(x,x)*(1-x),sqrt(1+y(x).diff(x)**2))\n",
    "diff_equation"
   ]
  },
  {
   "cell_type": "code",
   "execution_count": 108,
   "metadata": {},
   "outputs": [
    {
     "data": {
      "image/png": "[encoded data removed]",
      "text/latex": [
       "$\\displaystyle y{\\left(x \\right)} = \\frac{\\left(1 - x\\right)^{2}}{4} - \\frac{\\log{\\left(1 - x \\right)}}{2} - \\frac{1}{4}$"
      ],
      "text/plain": [
       "              2                 \n",
       "       (1 - x)    log(1 - x)   1\n",
       "y(x) = ──────── - ────────── - ─\n",
       "          4           2        4"
      ]
     },
     "execution_count": 108,
     "metadata": {},
     "output_type": "execute_result"
    }
   ],
   "source": [
    "# 最终答案\n",
    "real_ans=sympify( '1/4')*(1-x)**2-sympify('1/2')*ln(1-x)-sympify('1/4')\n",
    "Eq(y(x),real_ans)"
   ]
  },
  {
   "cell_type": "code",
   "execution_count": 109,
   "metadata": {},
   "outputs": [
    {
     "data": {
      "image/png": "[encoded data removed]",
      "text/latex": [
       "$\\displaystyle \\frac{d}{d x} y{\\left(x \\right)} = \\frac{x}{2} - \\frac{1}{2} + \\frac{1}{2 \\left(1 - x\\right)}$"
      ],
      "text/plain": [
       "d          x   1       1    \n",
       "──(y(x)) = ─ - ─ + ─────────\n",
       "dx         2   2   2⋅(1 - x)"
      ]
     },
     "execution_count": 109,
     "metadata": {},
     "output_type": "execute_result"
    }
   ],
   "source": [
    "# y'\n",
    "Eq(y(x).diff(x),real_ans.diff(x))"
   ]
  },
  {
   "cell_type": "code",
   "execution_count": 110,
   "metadata": {},
   "outputs": [
    {
     "data": {
      "image/png": "[encoded data removed]",
      "text/latex": [
       "$\\displaystyle y{\\left(x \\right)} = C_{1} - \\frac{x^{2} e^{- C_{2}}}{4} + \\frac{x e^{- C_{2}}}{2} + \\frac{e^{C_{2}} \\log{\\left(x - 1 \\right)}}{2}$"
      ],
      "text/plain": [
       "             2  -C₂      -C₂    C₂           \n",
       "            x ⋅ℯ      x⋅ℯ      ℯ  ⋅log(x - 1)\n",
       "y(x) = C₁ - ─────── + ────── + ──────────────\n",
       "               4        2            2       "
      ]
     },
     "execution_count": 110,
     "metadata": {},
     "output_type": "execute_result"
    }
   ],
   "source": [
    "# 求解微分方程有点慢，解决上面那个微分方程\n",
    "yx=dsolve(diff_equation,y(x))\n",
    "yx"
   ]
  },
  {
   "cell_type": "code",
   "execution_count": 111,
   "metadata": {},
   "outputs": [
    {
     "data": {
      "image/png": "[encoded data removed]",
      "text/latex": [
       "$\\displaystyle \\frac{\\partial}{\\partial x} y{\\left(x \\right)} = C_{1} - \\frac{x^{2} e^{- C_{2}}}{4} + \\frac{x e^{- C_{2}}}{2} + \\frac{e^{C_{2}} \\log{\\left(x - 1 \\right)}}{2}$"
      ],
      "text/plain": [
       "  ⎛             2  -C₂      -C₂    C₂           ⎞\n",
       "∂ ⎜            x ⋅ℯ      x⋅ℯ      ℯ  ⋅log(x - 1)⎟\n",
       "──⎜y(x) = C₁ - ─────── + ────── + ──────────────⎟\n",
       "∂x⎝               4        2            2       ⎠"
      ]
     },
     "execution_count": 111,
     "metadata": {},
     "output_type": "execute_result"
    }
   ],
   "source": [
    "yx.diff(x)"
   ]
  },
  {
   "cell_type": "markdown",
   "metadata": {},
   "source": [
    "# 通过第二条线开始推导\n",
    "先求y',然后对y'求积分"
   ]
  },
  {
   "cell_type": "code",
   "execution_count": 112,
   "metadata": {},
   "outputs": [
    {
     "data": {
      "image/png": "[encoded data removed]",
      "text/latex": [
       "$\\displaystyle \\left(1 - x\\right) \\frac{d}{d x} y{\\left(x \\right)} = \\sqrt{y^{2}{\\left(x \\right)} + 1}$"
      ],
      "text/plain": [
       "                      ___________\n",
       "        d            ╱  2        \n",
       "(1 - x)⋅──(y(x)) = ╲╱  y (x) + 1 \n",
       "        dx                       "
      ]
     },
     "execution_count": 112,
     "metadata": {},
     "output_type": "execute_result"
    }
   ],
   "source": [
    "# 先求y'，再求y\n",
    "diff_equation2=Eq(y(x).diff(x)*(1-x),sqrt(1+y(x)**2))\n",
    "diff_equation2"
   ]
  },
  {
   "cell_type": "code",
   "execution_count": 183,
   "metadata": {},
   "outputs": [
    {
     "data": {
      "image/png": "[encoded data removed]",
      "text/latex": [
       "$\\displaystyle \\left( \\sinh{\\left(C_{1} - \\log{\\left(x - 1 \\right)} \\right)}, \\  - \\frac{\\left(x - 1\\right) e^{- C_{1}}}{2} + \\frac{e^{C_{1}}}{2 \\left(x - 1\\right)}\\right)$"
      ],
      "text/plain": [
       "⎛                                  -C₁       C₁   ⎞\n",
       "⎜                         (x - 1)⋅ℯ         ℯ     ⎟\n",
       "⎜sinh(C₁ - log(x - 1)), - ──────────── + ─────────⎟\n",
       "⎝                              2         2⋅(x - 1)⎠"
      ]
     },
     "execution_count": 183,
     "metadata": {},
     "output_type": "execute_result"
    }
   ],
   "source": [
    "f=dsolve(diff_equation2,y(x)).args[1]\n",
    "f,f.rewrite(exp)"
   ]
  },
  {
   "cell_type": "markdown",
   "metadata": {},
   "source": [
    "求出来的f函数是不可积的，但是rewrite之后就变得可积了。这可能是sympy的bug，积分之后与直接求解结果一样。"
   ]
  },
  {
   "cell_type": "code",
   "execution_count": 185,
   "metadata": {},
   "outputs": [
    {
     "data": {
      "image/png": "[encoded data removed]",
      "text/latex": [
       "$\\displaystyle \\left( \\int \\sinh{\\left(C_{1} - \\log{\\left(x - 1 \\right)} \\right)}\\, dx, \\  - \\frac{x^{2} e^{- C_{1}}}{4} + \\frac{x e^{- C_{1}}}{2} + \\frac{e^{C_{1}} \\log{\\left(x - 1 \\right)}}{2}\\right)$"
      ],
      "text/plain": [
       "⎛                               2  -C₁      -C₁    C₁           ⎞\n",
       "⎜⌠                             x ⋅ℯ      x⋅ℯ      ℯ  ⋅log(x - 1)⎟\n",
       "⎜⎮ sinh(C₁ - log(x - 1)) dx, - ─────── + ────── + ──────────────⎟\n",
       "⎝⌡                                4        2            2       ⎠"
      ]
     },
     "execution_count": 185,
     "metadata": {},
     "output_type": "execute_result"
    }
   ],
   "source": [
    "integrate(f,x),integrate(f.rewrite(exp),x)"
   ]
  },
  {
   "cell_type": "code",
   "execution_count": 190,
   "metadata": {},
   "outputs": [
    {
     "data": {
      "text/latex": [
       "$\\displaystyle \\left( \\int \\sinh{\\left(\\log{\\left(x \\right)} \\right)}\\, dx, \\  \\frac{x^{4} \\Gamma\\left(\\frac{2}{3}\\right) {{}_{1}F_{2}\\left(\\begin{matrix} \\frac{2}{3} \\\\ \\frac{3}{2}, \\frac{5}{3} \\end{matrix}\\middle| {\\frac{x^{6}}{4}} \\right)}}{6 \\Gamma\\left(\\frac{5}{3}\\right)}\\right)$"
      ],
      "text/plain": [
       "⎛                                  ⎛         │  6⎞⎞\n",
       "⎜                    4         ┌─  ⎜  2/3    │ x ⎟⎟\n",
       "⎜                   x ⋅Γ(2/3)⋅ ├─  ⎜         │ ──⎟⎟\n",
       "⎜⌠                            1╵ 2 ⎝3/2, 5/3 │ 4 ⎠⎟\n",
       "⎜⎮ sinh(log(x)) dx, ──────────────────────────────⎟\n",
       "⎝⌡                             6⋅Γ(5/3)           ⎠"
      ]
     },
     "execution_count": 190,
     "metadata": {},
     "output_type": "execute_result"
    }
   ],
   "source": [
    "# 探索以下sinh的积分\n",
    "integrate(sinh(log(x))),integrate(sinh(x**3))"
   ]
  },
  {
   "cell_type": "code",
   "execution_count": 193,
   "metadata": {},
   "outputs": [
    {
     "data": {
      "image/png": "[encoded data removed]",
      "text/latex": [
       "$\\displaystyle x \\sinh{\\left(\\frac{1}{x} \\right)} - \\frac{\\log{\\left(\\frac{1}{x^{2}} \\right)}}{2} + \\log{\\left(\\frac{1}{x} \\right)} - \\operatorname{Chi}\\left(\\frac{1}{x}\\right)$"
      ],
      "text/plain": [
       "               ⎛1 ⎞                  \n",
       "            log⎜──⎟                  \n",
       "               ⎜ 2⎟                  \n",
       "      ⎛1⎞      ⎝x ⎠      ⎛1⎞      ⎛1⎞\n",
       "x⋅sinh⎜─⎟ - ─────── + log⎜─⎟ - Chi⎜─⎟\n",
       "      ⎝x⎠      2         ⎝x⎠      ⎝x⎠"
      ]
     },
     "execution_count": 193,
     "metadata": {},
     "output_type": "execute_result"
    }
   ],
   "source": [
    "integrate(sinh(1/x))"
   ]
  },
  {
   "cell_type": "code",
   "execution_count": 116,
   "metadata": {},
   "outputs": [
    {
     "data": {
      "image/png": "[encoded data removed]",
      "text/latex": [
       "$\\displaystyle - \\frac{\\left(1 - x\\right) \\cosh{\\left(C_{1} - \\log{\\left(x - 1 \\right)} \\right)}}{x - 1}$"
      ],
      "text/plain": [
       "-(1 - x)⋅cosh(C₁ - log(x - 1)) \n",
       "───────────────────────────────\n",
       "             x - 1             "
      ]
     },
     "execution_count": 116,
     "metadata": {},
     "output_type": "execute_result"
    }
   ],
   "source": [
    "left=(1-x)*f.diff(x)\n",
    "left"
   ]
  },
  {
   "cell_type": "code",
   "execution_count": 117,
   "metadata": {},
   "outputs": [
    {
     "data": {
      "image/png": "[encoded data removed]",
      "text/latex": [
       "$\\displaystyle \\sqrt{\\sinh^{2}{\\left(C_{1} - \\log{\\left(x - 1 \\right)} \\right)} + 1}$"
      ],
      "text/plain": [
       "   ____________________________\n",
       "  ╱     2                      \n",
       "╲╱  sinh (C₁ - log(x - 1)) + 1 "
      ]
     },
     "execution_count": 117,
     "metadata": {},
     "output_type": "execute_result"
    }
   ],
   "source": [
    "right=sqrt(f**2+1)\n",
    "right"
   ]
  },
  {
   "cell_type": "code",
   "execution_count": 120,
   "metadata": {},
   "outputs": [
    {
     "data": {
      "image/png": "[encoded data removed]",
      "text/latex": [
       "$\\displaystyle - 1.0 \\cosh{\\left(C_{1} + 0.356674943938732 \\right)}$"
      ],
      "text/plain": [
       "-1.0⋅cosh(C₁ + 0.356674943938732)"
      ]
     },
     "execution_count": 120,
     "metadata": {},
     "output_type": "execute_result"
    }
   ],
   "source": [
    "left.subs(x,0.3)"
   ]
  },
  {
   "cell_type": "code",
   "execution_count": 128,
   "metadata": {},
   "outputs": [
    {
     "data": {
      "image/png": "[encoded data removed]",
      "text/latex": [
       "$\\displaystyle \\sqrt{\\cosh^{2}{\\left(C_{1} + 0.356674943938732 \\right)}}$"
      ],
      "text/plain": [
       "   _______________________________\n",
       "  ╱     2                         \n",
       "╲╱  cosh (C₁ + 0.356674943938732) "
      ]
     },
     "execution_count": 128,
     "metadata": {},
     "output_type": "execute_result"
    }
   ],
   "source": [
    "simplify(right.subs(x,0.3)) # 左右确实是相等的"
   ]
  },
  {
   "cell_type": "code",
   "execution_count": 131,
   "metadata": {},
   "outputs": [
    {
     "data": {
      "text/plain": [
       "(False, True)"
      ]
     },
     "execution_count": 131,
     "metadata": {},
     "output_type": "execute_result"
    }
   ],
   "source": [
    "left.equals(right),(left**2).equals(right**2) # 此处却又显示不相等，左边不等于右边，但是两边的平方是相等的"
   ]
  },
  {
   "cell_type": "code",
   "execution_count": 127,
   "metadata": {},
   "outputs": [
    {
     "data": {
      "text/plain": [
       "(-sqrt(2)*sqrt(cosh(2*C1 - 2*log(x - 1)) + 1)/2 + cosh(C1 - log(x - 1)), False)"
      ]
     },
     "execution_count": 127,
     "metadata": {},
     "output_type": "execute_result"
    }
   ],
   "source": [
    "trigsimp (left-right)"
   ]
  },
  {
   "cell_type": "code",
   "execution_count": 141,
   "metadata": {},
   "outputs": [
    {
     "data": {
      "text/plain": [
       "(-x*exp(-C2)/2 + exp(-C2)/2 + exp(C2)/(2*(x - 1)),\n",
       " sinh(C1 - log(x - 1)),\n",
       " False)"
      ]
     },
     "execution_count": 141,
     "metadata": {},
     "output_type": "execute_result"
    }
   ],
   "source": [
    "yx.args[1].diff(x),f,yx.args[1].diff(x).equals(f)"
   ]
  },
  {
   "cell_type": "code",
   "execution_count": 143,
   "metadata": {},
   "outputs": [],
   "source": [
    "# 我的导数\n",
    "mine=(1-(1-x)**2)/(2*(1-x))"
   ]
  },
  {
   "cell_type": "code",
   "execution_count": 148,
   "metadata": {},
   "outputs": [
    {
     "data": {
      "text/plain": [
       "((1 - x)*(2*(1 - (1 - x)**2)/(2 - 2*x)**2 + 1),\n",
       " sqrt((1 - (1 - x)**2)**2/(2 - 2*x)**2 + 1),\n",
       " False,\n",
       " True)"
      ]
     },
     "execution_count": 148,
     "metadata": {},
     "output_type": "execute_result"
    }
   ],
   "source": [
    "left=(1-x)*mine.diff(x)\n",
    "right=sqrt(mine**2+1)\n",
    "left,right,left.equals(right),(left**2).equals(right**2)"
   ]
  },
  {
   "cell_type": "code",
   "execution_count": 149,
   "metadata": {},
   "outputs": [
    {
     "data": {
      "image/png": "[encoded data removed]",
      "text/latex": [
       "$\\displaystyle \\frac{1}{2} + \\frac{1}{2 \\left(x - 1\\right)^{2}}$"
      ],
      "text/plain": [
       "1       1     \n",
       "─ + ──────────\n",
       "2            2\n",
       "    2⋅(x - 1) "
      ]
     },
     "execution_count": 149,
     "metadata": {},
     "output_type": "execute_result"
    }
   ],
   "source": [
    "simplify(mine.diff(x))"
   ]
  },
  {
   "cell_type": "code",
   "execution_count": 165,
   "metadata": {},
   "outputs": [
    {
     "data": {
      "image/png": "[encoded data removed]",
      "text/latex": [
       "$\\displaystyle \\left( \\sinh{\\left(C_{1} - \\log{\\left(x - 1 \\right)} \\right)}, \\  \\left[ - \\sinh{\\left(C_{1} \\right)}\\right]\\right)$"
      ],
      "text/plain": [
       "(sinh(C₁ - log(x - 1)), [-sinh(C₁)])"
      ]
     },
     "execution_count": 165,
     "metadata": {},
     "output_type": "execute_result"
    }
   ],
   "source": [
    "# 把x=0时，y=0,y'=0代入\n",
    "system=[f.subs(x,0)]\n",
    "f,system"
   ]
  },
  {
   "cell_type": "code",
   "execution_count": 168,
   "metadata": {},
   "outputs": [
    {
     "data": {
      "image/png": "[encoded data removed]",
      "text/latex": [
       "$\\displaystyle \\left( \\left\\{cc \\mid cc \\in \\mathbb{R} \\wedge \\frac{\\left(e^{2 cc} - 1\\right) e^{- cc}}{2} = 0 \\right\\}, \\  0\\right)$"
      ],
      "text/plain": [
       "⎛⎧              ⎛ 2⋅cc    ⎞  -cc    ⎫   ⎞\n",
       "⎜⎪              ⎝ℯ     - 1⎠⋅ℯ       ⎪   ⎟\n",
       "⎜⎨cc | cc ∊ ℝ ∧ ──────────────── = 0⎬, 0⎟\n",
       "⎜⎪                     2            ⎪   ⎟\n",
       "⎝⎩                                  ⎭   ⎠"
      ]
     },
     "execution_count": 168,
     "metadata": {},
     "output_type": "execute_result"
    }
   ],
   "source": [
    "cc=symbols('cc')\n",
    "solveset(-sinh(cc),cc),-sinh(0) # 这说明cc=0"
   ]
  },
  {
   "cell_type": "code",
   "execution_count": 172,
   "metadata": {},
   "outputs": [
    {
     "data": {
      "image/png": "[encoded data removed]",
      "text/latex": [
       "$\\displaystyle \\left( - \\sinh{\\left(\\log{\\left(x - 1 \\right)} \\right)}, \\  - \\int \\sinh{\\left(\\log{\\left(x - 1 \\right)} \\right)}\\, dx\\right)$"
      ],
      "text/plain": [
       "⎛                    ⌠                    ⎞\n",
       "⎜-sinh(log(x - 1)), -⎮ sinh(log(x - 1)) dx⎟\n",
       "⎝                    ⌡                    ⎠"
      ]
     },
     "execution_count": 172,
     "metadata": {},
     "output_type": "execute_result"
    }
   ],
   "source": [
    "f=sinh(-log(x-1))\n",
    "f,integrate(f)"
   ]
  },
  {
   "cell_type": "code",
   "execution_count": 164,
   "metadata": {},
   "outputs": [
    {
     "data": {
      "image/png": "[encoded data removed]",
      "text/latex": [
       "$\\displaystyle \\left[ C_{1} + \\frac{i \\pi e^{C_{2}}}{2}, \\  - \\frac{e^{C_{2}}}{2} + \\frac{e^{- C_{2}}}{2}\\right]$"
      ],
      "text/plain": [
       "⎡          C₂     C₂    -C₂⎤\n",
       "⎢     ⅈ⋅π⋅ℯ      ℯ     ℯ   ⎥\n",
       "⎢C₁ + ───────, - ─── + ────⎥\n",
       "⎣        2        2     2  ⎦"
      ]
     },
     "execution_count": 164,
     "metadata": {},
     "output_type": "execute_result"
    }
   ],
   "source": [
    "# 对上面那种情况求解\n",
    "system=[yx.args[1].subs(x,0),yx.args[1].diff(x).subs(x,0)]\n",
    "system"
   ]
  },
  {
   "cell_type": "code",
   "execution_count": 176,
   "metadata": {},
   "outputs": [
    {
     "data": {
      "image/png": "[encoded data removed]",
      "text/latex": [
       "$\\displaystyle - \\int \\sinh{\\left(\\log{\\left(x - 1 \\right)} \\right)}\\, dx$"
      ],
      "text/plain": [
       " ⌠                    \n",
       "-⎮ sinh(log(x - 1)) dx\n",
       " ⌡                    "
      ]
     },
     "execution_count": 176,
     "metadata": {},
     "output_type": "execute_result"
    }
   ],
   "source": [
    "integrate(sinh(-log(x-1)))"
   ]
  },
  {
   "cell_type": "code",
   "execution_count": 175,
   "metadata": {},
   "outputs": [
    {
     "data": {
      "text/plain": [
       "[<matplotlib.lines.Line2D at 0x7fec70250150>]"
      ]
     },
     "execution_count": 175,
     "metadata": {},
     "output_type": "execute_result"
    },
    {
     "data": {
      "image/png": "[encoded data removed]",
      "text/plain": [
       "<Figure size 432x288 with 1 Axes>"
      ]
     },
     "metadata": {
      "needs_background": "light"
     },
     "output_type": "display_data"
    }
   ],
   "source": [
    "xx=np.linspace(0,1,100)\n",
    "plt.plot(xx,np.sinh(xx))"
   ]
  },
  {
   "cell_type": "code",
   "execution_count": 180,
   "metadata": {},
   "outputs": [
    {
     "data": {
      "image/png": "[encoded data removed]",
      "text/latex": [
       "$\\displaystyle \\left( - \\sinh{\\left(\\log{\\left(x - 1 \\right)} \\right)}, \\  - \\frac{x}{2} + \\frac{1}{2} + \\frac{1}{2 \\left(x - 1\\right)}\\right)$"
      ],
      "text/plain": [
       "⎛                     x   1       1    ⎞\n",
       "⎜-sinh(log(x - 1)), - ─ + ─ + ─────────⎟\n",
       "⎝                     2   2   2⋅(x - 1)⎠"
      ]
     },
     "execution_count": 180,
     "metadata": {},
     "output_type": "execute_result"
    }
   ],
   "source": [
    "f,f.rewrite(exp)"
   ]
  },
  {
   "cell_type": "code",
   "execution_count": 181,
   "metadata": {},
   "outputs": [
    {
     "data": {
      "text/plain": [
       "True"
      ]
     },
     "execution_count": 181,
     "metadata": {},
     "output_type": "execute_result"
    }
   ],
   "source": [
    "f.equals(f.rewrite(exp))"
   ]
  },
  {
   "cell_type": "markdown",
   "metadata": {},
   "source": [
    "圆形操场追击问题"
   ]
  },
  {
   "cell_type": "code",
   "execution_count": 2,
   "metadata": {},
   "outputs": [],
   "source": [
    "theta=symbols('theta')\n",
    "r=Function('r')(theta)\n",
    "R,v=symbols('R v')\n",
    "rr=r.diff(theta)"
   ]
  },
  {
   "cell_type": "code",
   "execution_count": 3,
   "metadata": {},
   "outputs": [
    {
     "data": {
      "image/png": "[encoded data removed]",
      "text/latex": [
       "$\\displaystyle \\frac{2 \\pi R \\int \\sqrt{r^{2}{\\left(\\theta \\right)} + \\left(\\frac{d}{d \\theta} r{\\left(\\theta \\right)}\\right)^{2}}\\, d\\theta}{v^{2}}$"
      ],
      "text/plain": [
       "      ⌠                              \n",
       "      ⎮      _____________________   \n",
       "      ⎮     ╱                   2    \n",
       "      ⎮    ╱   2      ⎛d       ⎞     \n",
       "2⋅π⋅R⋅⎮   ╱   r (θ) + ⎜──(r(θ))⎟   dθ\n",
       "      ⎮ ╲╱            ⎝dθ      ⎠     \n",
       "      ⌡                              \n",
       "─────────────────────────────────────\n",
       "                   2                 \n",
       "                  v                  "
      ]
     },
     "execution_count": 3,
     "metadata": {},
     "output_type": "execute_result"
    }
   ],
   "source": [
    "beta=2*pi*R/(v*v)*Integral(sqrt(rr**2+r**2),theta)\n",
    "beta"
   ]
  },
  {
   "cell_type": "code",
   "execution_count": 4,
   "metadata": {},
   "outputs": [
    {
     "data": {
      "image/png": "[encoded data removed]",
      "text/latex": [
       "$\\displaystyle \\frac{R \\sin{\\left(\\frac{2 \\pi R \\int \\sqrt{r^{2}{\\left(\\theta \\right)} + \\left(\\frac{d}{d \\theta} r{\\left(\\theta \\right)}\\right)^{2}}\\, d\\theta}{v^{2}} \\right)} - r{\\left(\\theta \\right)} \\sin{\\left(\\theta \\right)}}{R \\cos{\\left(\\frac{2 \\pi R \\int \\sqrt{r^{2}{\\left(\\theta \\right)} + \\left(\\frac{d}{d \\theta} r{\\left(\\theta \\right)}\\right)^{2}}\\, d\\theta}{v^{2}} \\right)} - r{\\left(\\theta \\right)} \\cos{\\left(\\theta \\right)}} = \\frac{r{\\left(\\theta \\right)} \\cos{\\left(\\theta \\right)} + \\sin{\\left(\\theta \\right)} \\frac{d}{d \\theta} r{\\left(\\theta \\right)}}{- r{\\left(\\theta \\right)} \\sin{\\left(\\theta \\right)} + \\cos{\\left(\\theta \\right)} \\frac{d}{d \\theta} r{\\left(\\theta \\right)}}$"
      ],
      "text/plain": [
       "     ⎛      ⌠                              ⎞                                  \n",
       "     ⎜      ⎮      _____________________   ⎟                                  \n",
       "     ⎜      ⎮     ╱                   2    ⎟                                  \n",
       "     ⎜      ⎮    ╱   2      ⎛d       ⎞     ⎟                                  \n",
       "     ⎜2⋅π⋅R⋅⎮   ╱   r (θ) + ⎜──(r(θ))⎟   dθ⎟                                  \n",
       "     ⎜      ⎮ ╲╱            ⎝dθ      ⎠     ⎟                                  \n",
       "     ⎜      ⌡                              ⎟                                  \n",
       "R⋅sin⎜─────────────────────────────────────⎟ - r(θ)⋅sin(θ)                    \n",
       "     ⎜                   2                 ⎟                 r(θ)⋅cos(θ) + sin\n",
       "     ⎝                  v                  ⎠                                  \n",
       "────────────────────────────────────────────────────────── = ─────────────────\n",
       "     ⎛      ⌠                              ⎞                                  \n",
       "     ⎜      ⎮      _____________________   ⎟                 -r(θ)⋅sin(θ) + co\n",
       "     ⎜      ⎮     ╱                   2    ⎟                                  \n",
       "     ⎜      ⎮    ╱   2      ⎛d       ⎞     ⎟                                  \n",
       "     ⎜2⋅π⋅R⋅⎮   ╱   r (θ) + ⎜──(r(θ))⎟   dθ⎟                                  \n",
       "     ⎜      ⎮ ╲╱            ⎝dθ      ⎠     ⎟                                  \n",
       "     ⎜      ⌡                              ⎟                                  \n",
       "R⋅cos⎜─────────────────────────────────────⎟ - r(θ)⋅cos(θ)                    \n",
       "     ⎜                   2                 ⎟                                  \n",
       "     ⎝                  v                  ⎠                                  \n",
       "\n",
       "             \n",
       "             \n",
       "             \n",
       "             \n",
       "             \n",
       "             \n",
       "             \n",
       "    d        \n",
       "(θ)⋅──(r(θ)) \n",
       "    dθ       \n",
       "─────────────\n",
       "     d       \n",
       "s(θ)⋅──(r(θ))\n",
       "     dθ      \n",
       "             \n",
       "             \n",
       "             \n",
       "             \n",
       "             \n",
       "             \n",
       "             "
      ]
     },
     "execution_count": 4,
     "metadata": {},
     "output_type": "execute_result"
    }
   ],
   "source": [
    "left=(R*sin(beta)-r*sin(theta))/(R*cos(beta)-r*cos(theta))\n",
    "right=(rr*sin(theta)+r*cos(theta))/(rr*cos(theta)-r*sin(theta))\n",
    "system=Eq(left,right)\n",
    "system"
   ]
  },
  {
   "cell_type": "code",
   "execution_count": null,
   "metadata": {},
   "outputs": [],
   "source": [
    "# 求解微分方程非常慢，至少半个小时\n",
    "dsolve(system,r)"
   ]
  }
 ],
 "metadata": {
  "kernelspec": {
   "display_name": "Python 3",
   "language": "python",
   "name": "python3"
  },
  "language_info": {
   "codemirror_mode": {
    "name": "ipython",
    "version": 3
   },
   "file_extension": ".py",
   "mimetype": "text/x-python",
   "name": "python",
   "nbconvert_exporter": "python",
   "pygments_lexer": "ipython3",
   "version": "3.7.4"
  }
 },
 "nbformat": 4,
 "nbformat_minor": 2
}
